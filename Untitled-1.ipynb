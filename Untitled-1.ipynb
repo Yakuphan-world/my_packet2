{
 "cells": [
  {
   "cell_type": "code",
   "execution_count": 28,
   "metadata": {},
   "outputs": [
    {
     "name": "stdout",
     "output_type": "stream",
     "text": [
      "Password..: 0$AKv5<gp>\n"
     ]
    }
   ],
   "source": [
    "import string\n",
    "import random\n",
    "str_lower=random.sample(string.ascii_lowercase,3)\n",
    "str_upper= random.sample(string.ascii_uppercase,3)\n",
    "str_digits= random.sample(string.digits,3)\n",
    "str_nokta= random.sample(string.punctuation,3)\n",
    "liste = str_lower + str_digits + str_nokta + str_upper\n",
    "\n",
    "print(\"Password..:\",\"\".join(random.sample(liste ,10)))"
   ]
  },
  {
   "cell_type": "code",
   "execution_count": 35,
   "metadata": {},
   "outputs": [
    {
     "name": "stdout",
     "output_type": "stream",
     "text": [
      "2022-11-20\n",
      "2022-11-20 17:50:58.877596\n"
     ]
    }
   ],
   "source": [
    "from datetime import date , datetime\n",
    "today=date.today()\n",
    "print(today)\n",
    "zaman= datetime.now()\n",
    "print(zaman)\n"
   ]
  },
  {
   "cell_type": "code",
   "execution_count": 41,
   "metadata": {},
   "outputs": [
    {
     "name": "stdout",
     "output_type": "stream",
     "text": [
      "istanbul\n"
     ]
    }
   ],
   "source": [
    "import random\n",
    "city=[\"ankara\",\"istanbul\",\"corum\"]\n",
    "print(random.choice(city))"
   ]
  },
  {
   "cell_type": "code",
   "execution_count": 44,
   "metadata": {},
   "outputs": [
    {
     "name": "stdout",
     "output_type": "stream",
     "text": [
      "   November 2022\n",
      "Mo Tu We Th Fr Sa Su\n",
      "    1  2  3  4  5  6\n",
      " 7  8  9 10 11 12 13\n",
      "14 15 16 17 18 19 20\n",
      "21 22 23 24 25 26 27\n",
      "28 29 30\n",
      "None\n"
     ]
    }
   ],
   "source": [
    "import calendar \n",
    "ay=calendar.prmonth(2022,11)\n",
    "print(ay)"
   ]
  },
  {
   "cell_type": "code",
   "execution_count": 51,
   "metadata": {},
   "outputs": [
    {
     "name": "stdout",
     "output_type": "stream",
     "text": [
      "     Kasım 2022\n",
      "Pt Sa Ça Pe Cu Ct Pa\n",
      "    1  2  3  4  5  6\n",
      " 7  8  9 10 11 12 13\n",
      "14 15 16 17 18 19 20\n",
      "21 22 23 24 25 26 27\n",
      "28 29 30\n"
     ]
    }
   ],
   "source": [
    "import calendar\n",
    "import locale\n",
    "locale.setlocale(locale.LC_ALL,\"de_DE\")\n",
    "calendar.prmonth(2022, 11)"
   ]
  },
  {
   "cell_type": "code",
   "execution_count": null,
   "metadata": {},
   "outputs": [],
   "source": []
  }
 ],
 "metadata": {
  "kernelspec": {
   "display_name": "Python 3.10.7 64-bit",
   "language": "python",
   "name": "python3"
  },
  "language_info": {
   "codemirror_mode": {
    "name": "ipython",
    "version": 3
   },
   "file_extension": ".py",
   "mimetype": "text/x-python",
   "name": "python",
   "nbconvert_exporter": "python",
   "pygments_lexer": "ipython3",
   "version": "3.10.7"
  },
  "orig_nbformat": 4,
  "vscode": {
   "interpreter": {
    "hash": "aee8b7b246df8f9039afb4144a1f6fd8d2ca17a180786b69acc140d282b71a49"
   }
  }
 },
 "nbformat": 4,
 "nbformat_minor": 2
}
